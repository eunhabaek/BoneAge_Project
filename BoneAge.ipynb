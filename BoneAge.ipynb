{
 "cells": [
  {
   "cell_type": "code",
   "execution_count": 179,
   "id": "5973c93a",
   "metadata": {},
   "outputs": [],
   "source": [
    "import os\n",
    "import shutil\n",
    "import glob\n",
    "import zipfile\n",
    "\n",
    "import pandas as pd\n",
    "import numpy as np\n",
    "\n",
    "import re\n",
    "\n",
    "import matplotlib.pyplot as plt\n",
    "from PIL import Image\n",
    "import cv2"
   ]
  },
  {
   "cell_type": "markdown",
   "id": "16189f72",
   "metadata": {},
   "source": [
    "# 1. 데이터 전처리"
   ]
  },
  {
   "cell_type": "markdown",
   "id": "c4477081",
   "metadata": {},
   "source": [
    "## 1-1) 1차 데이터 전처리"
   ]
  },
  {
   "cell_type": "markdown",
   "id": "4a9b057b",
   "metadata": {},
   "source": [
    "### 초기 실행 (1번만 수행)"
   ]
  },
  {
   "cell_type": "code",
   "execution_count": 134,
   "id": "889e5a2a",
   "metadata": {},
   "outputs": [],
   "source": [
    "ba_path=\"/Users/eunha/Desktop/골밀도데이터/BoneAge/\"\n",
    "data_path=\"/Users/eunha/Desktop/골밀도데이터/BoneAgeData/\"\n",
    "\n",
    "#xlsx파일과 zip파일 경로 추출\n",
    "xls_path=glob.glob(path+\"/*.xlsx\")\n",
    "zip_path=glob.glob(path+\"/*.zip\")"
   ]
  },
  {
   "cell_type": "code",
   "execution_count": 176,
   "id": "105854f6",
   "metadata": {},
   "outputs": [],
   "source": [
    "#zip파일 압축 해제 후 위치 변경\n",
    "for zip in zip_path:\n",
    "    zipfile.ZipFile(zip).extractall(data_path+\"images\")"
   ]
  },
  {
   "cell_type": "code",
   "execution_count": 185,
   "id": "65cea63e",
   "metadata": {},
   "outputs": [],
   "source": [
    "#이중 폴더 내 이미지 꺼내기\n",
    "infolder_path=glob.glob(data_path+\"images\"+\"/BA*\")\n",
    "for in_path in infolder_path:\n",
    "    tmp=os.listdir(in_path)\n",
    "    for i in tmp:\n",
    "        os.rename(in_path+\"/\"+i,data_path+\"images/\"+i)\n",
    "    \n",
    "    os.rmdir(in_path)"
   ]
  },
  {
   "cell_type": "code",
   "execution_count": 186,
   "id": "c0adf986",
   "metadata": {},
   "outputs": [],
   "source": [
    "#xlsx파일 읽어서 합치기\n",
    "df=pd.DataFrame()\n",
    "for xlsx in xls_path:\n",
    "    sub=pd.read_excel(xlsx)\n",
    "    \n",
    "    id= pd.DataFrame([int(re.findall(r'\\d+',str(x))[0]) for x in sub[\"No.\"]])\n",
    "    age=sub[\"검사 시 나이\"]\n",
    "    gender=sub[\"성별\"]-1\n",
    "    \n",
    "    tmp=pd.concat([id,age,gender],axis=1,ignore_index=True)\n",
    "    df=pd.concat([df,tmp],axis=0,ignore_index=True)\n",
    "    \n",
    "df.columns=[\"ID\",\"Age\",\"Gender\"]"
   ]
  },
  {
   "cell_type": "code",
   "execution_count": 208,
   "id": "bb415a93",
   "metadata": {},
   "outputs": [],
   "source": [
    "df.to_excel(data_path+\"clin_info.xlsx\")"
   ]
  },
  {
   "cell_type": "markdown",
   "id": "4d5574c8",
   "metadata": {},
   "source": [
    "### 기본 수행 (초기 실행한 경우 여기부터 수행)"
   ]
  },
  {
   "cell_type": "code",
   "execution_count": null,
   "id": "3e00493d",
   "metadata": {},
   "outputs": [],
   "source": [
    "#label 정보 불러오기\n",
    "data_path=\"/Users/eunha/Desktop/골밀도데이터/BoneAgeData/\"\n",
    "\n",
    "df=pd.read_excel(data_path+\"clin_info.xlsx\")"
   ]
  },
  {
   "cell_type": "code",
   "execution_count": null,
   "id": "285bd72d",
   "metadata": {
    "scrolled": false
   },
   "outputs": [],
   "source": [
    "#데이터 프레임에 이미지 데이터 넣기\n",
    "img_arr=np.empty(shape=1237)\n",
    "for i in range(0,len(img_arr)):\n",
    "    img_path=glob.glob(data_path+\"images/\"+str(df.ID[i])+\"_?.jpg\")[0]\n",
    "    img_arr=np.append(img_arr,(cv2.imread(img_path)))"
   ]
  },
  {
   "cell_type": "code",
   "execution_count": null,
   "id": "c0da4acd",
   "metadata": {},
   "outputs": [],
   "source": [
    "img_arr"
   ]
  },
  {
   "cell_type": "code",
   "execution_count": null,
   "id": "f25013c1",
   "metadata": {},
   "outputs": [],
   "source": []
  }
 ],
 "metadata": {
  "kernelspec": {
   "display_name": "Python 3 (ipykernel)",
   "language": "python",
   "name": "python3"
  },
  "language_info": {
   "codemirror_mode": {
    "name": "ipython",
    "version": 3
   },
   "file_extension": ".py",
   "mimetype": "text/x-python",
   "name": "python",
   "nbconvert_exporter": "python",
   "pygments_lexer": "ipython3",
   "version": "3.10.9"
  }
 },
 "nbformat": 4,
 "nbformat_minor": 5
}
